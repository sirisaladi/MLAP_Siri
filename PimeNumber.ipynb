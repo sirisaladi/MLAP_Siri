{
 "cells": [
  {
   "cell_type": "code",
   "execution_count": 9,
   "metadata": {},
   "outputs": [
    {
     "name": "stdout",
     "output_type": "stream",
     "text": [
      "enter a number71\n",
      "prime number\n"
     ]
    }
   ],
   "source": [
    "x=int(input(\"enter a number\"))\n",
    "count=0\n",
    "n=1\n",
    "while n<=x:\n",
    "    if x%n==0:\n",
    "        count=count+1\n",
    "        n=n+1\n",
    "    else:\n",
    "        n=n+1\n",
    "if count==2:\n",
    "    print(\"prime number\")\n",
    "else:\n",
    "    print(\"not a prime number\")"
   ]
  },
  {
   "cell_type": "code",
   "execution_count": null,
   "metadata": {},
   "outputs": [],
   "source": []
  },
  {
   "cell_type": "code",
   "execution_count": null,
   "metadata": {},
   "outputs": [],
   "source": []
  }
 ],
 "metadata": {
  "kernelspec": {
   "display_name": "Python 3",
   "language": "python",
   "name": "python3"
  },
  "language_info": {
   "codemirror_mode": {
    "name": "ipython",
    "version": 3
   },
   "file_extension": ".py",
   "mimetype": "text/x-python",
   "name": "python",
   "nbconvert_exporter": "python",
   "pygments_lexer": "ipython3",
   "version": "3.7.6"
  }
 },
 "nbformat": 4,
 "nbformat_minor": 4
}
